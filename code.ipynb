{
 "cells": [
  {
   "cell_type": "code",
   "execution_count": 3,
   "metadata": {},
   "outputs": [
    {
     "name": "stdout",
     "output_type": "stream",
     "text": [
      "Connected successfully to MongoDB!\n",
      "Document added successfully to the database.\n"
     ]
    }
   ],
   "source": [
    "import pymongo\n",
    "\n",
    "def connect_to_mongodb(uri):\n",
    "    try:\n",
    "        client = pymongo.MongoClient(uri)\n",
    "        print(\"Connected successfully to MongoDB!\")\n",
    "        return client\n",
    "    except pymongo.errors.ConnectionFailure:\n",
    "        print(\"Could not connect to MongoDB. Check your connection URI.\")\n",
    "        return None\n",
    "\n",
    "# اضافه کردن یک سند به دیتابیس\n",
    "def add_document_to_database(client, db_name, collection_name, document):\n",
    "    db = client[db_name]\n",
    "    collection = db[collection_name]\n",
    "    try:\n",
    "        collection.insert_one(document)\n",
    "        print(\"Document added successfully to the database.\")\n",
    "    except Exception as e:\n",
    "        print(\"Error occurred while adding document:\", e)\n",
    "\n",
    "\n",
    "MONGO_URI = \"mongodb://localhost:27017/your_database_name\"\n",
    "\n",
    "inner_data = {\n",
    "    \"A\" : 1,\n",
    "    \"B\" : 2,\n",
    "    \"C\" : 3\n",
    "}\n",
    "\n",
    "inner_innder_data = {\n",
    "    \"data\" : inner_data\n",
    "}\n",
    "\n",
    "document = {\n",
    "    \"name\": \"Amir\",\n",
    "    \"age\": 21,\n",
    "    \"city\": \"Tehran\",\n",
    "    \"inner_data\" : inner_innder_data\n",
    "}\n",
    "\n",
    "client = connect_to_mongodb(MONGO_URI)\n",
    "if client:\n",
    "    add_document_to_database(client, \"test_db\", \"test_collection\", document)"
   ]
  },
  {
   "cell_type": "code",
   "execution_count": 7,
   "metadata": {},
   "outputs": [
    {
     "name": "stdout",
     "output_type": "stream",
     "text": [
      "Connected successfully to MongoDB!\n",
      "{'_id': ObjectId('661f42b11ab7777a495c0627'), 'name': 'John', 'age': 30, 'city': 'New York'}\n",
      "{'_id': ObjectId('661f48341ab7777a495c062b'), 'name': 'Amir', 'age': 21, 'city': 'Tehran'}\n"
     ]
    }
   ],
   "source": [
    "def connect_to_mongodb(uri):\n",
    "    try:\n",
    "        client = pymongo.MongoClient(uri)\n",
    "        print(\"Connected successfully to MongoDB!\")\n",
    "        return client\n",
    "    except pymongo.errors.ConnectionFailure:\n",
    "        print(\"Could not connect to MongoDB. Check your connection URI.\")\n",
    "        return None\n",
    "\n",
    "def find_all_documents(collection):\n",
    "    documents = collection.find({})\n",
    "    for doc in documents:\n",
    "        print(doc)\n",
    "\n",
    "MONGO_URI = \"mongodb://localhost:27017/your_database_name\"\n",
    "\n",
    "client = connect_to_mongodb(MONGO_URI)\n",
    "if client:\n",
    "    db = client[\"test_db\"]\n",
    "    collection = db[\"test_collection\"]\n",
    "    find_all_documents(collection)"
   ]
  }
 ],
 "metadata": {
  "kernelspec": {
   "display_name": "venv-MongoDB",
   "language": "python",
   "name": "python3"
  },
  "language_info": {
   "codemirror_mode": {
    "name": "ipython",
    "version": 3
   },
   "file_extension": ".py",
   "mimetype": "text/x-python",
   "name": "python",
   "nbconvert_exporter": "python",
   "pygments_lexer": "ipython3",
   "version": "3.10.12"
  }
 },
 "nbformat": 4,
 "nbformat_minor": 2
}
