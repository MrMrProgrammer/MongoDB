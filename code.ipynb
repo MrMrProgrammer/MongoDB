{
 "cells": [
  {
   "cell_type": "code",
   "execution_count": 3,
   "metadata": {},
   "outputs": [
    {
     "name": "stdout",
     "output_type": "stream",
     "text": [
      "Connected successfully to MongoDB!\n",
      "Document added successfully to the database.\n"
     ]
    }
   ],
   "source": [
    "import pymongo\n",
    "\n",
    "def connect_to_mongodb(uri):\n",
    "    try:\n",
    "        client = pymongo.MongoClient(uri)\n",
    "        print(\"Connected successfully to MongoDB!\")\n",
    "        return client\n",
    "    except pymongo.errors.ConnectionFailure:\n",
    "        print(\"Could not connect to MongoDB. Check your connection URI.\")\n",
    "        return None\n",
    "\n",
    "# اضافه کردن یک سند به دیتابیس\n",
    "def add_document_to_database(client, db_name, collection_name, document):\n",
    "    db = client[db_name]\n",
    "    collection = db[collection_name]\n",
    "    try:\n",
    "        collection.insert_one(document)\n",
    "        print(\"Document added successfully to the database.\")\n",
    "    except Exception as e:\n",
    "        print(\"Error occurred while adding document:\", e)\n",
    "\n",
    "\n",
    "MONGO_URI = \"mongodb://localhost:27017/your_database_name\"\n",
    "\n",
    "inner_data = {\n",
    "    \"A\" : 1,\n",
    "    \"B\" : 2,\n",
    "    \"C\" : 3\n",
    "}\n",
    "\n",
    "inner_innder_data = {\n",
    "    \"data\" : inner_data\n",
    "}\n",
    "\n",
    "document = {\n",
    "    \"name\": \"Amir\",\n",
    "    \"age\": 21,\n",
    "    \"city\": \"Tehran\",\n",
    "    \"inner_data\" : inner_innder_data\n",
    "}\n",
    "\n",
    "client = connect_to_mongodb(MONGO_URI)\n",
    "if client:\n",
    "    add_document_to_database(client, \"test_db\", \"test_collection\", document)"
   ]
  },
  {
   "cell_type": "code",
   "execution_count": 7,
   "metadata": {},
   "outputs": [
    {
     "name": "stdout",
     "output_type": "stream",
     "text": [
      "Connected successfully to MongoDB!\n",
      "{'_id': ObjectId('661f42b11ab7777a495c0627'), 'name': 'John', 'age': 30, 'city': 'New York'}\n",
      "{'_id': ObjectId('661f48341ab7777a495c062b'), 'name': 'Amir', 'age': 21, 'city': 'Tehran'}\n"
     ]
    }
   ],
   "source": [
    "def connect_to_mongodb(uri):\n",
    "    try:\n",
    "        client = pymongo.MongoClient(uri)\n",
    "        print(\"Connected successfully to MongoDB!\")\n",
    "        return client\n",
    "    except pymongo.errors.ConnectionFailure:\n",
    "        print(\"Could not connect to MongoDB. Check your connection URI.\")\n",
    "        return None\n",
    "\n",
    "def find_all_documents(collection):\n",
    "    documents = collection.find({})\n",
    "    for doc in documents:\n",
    "        print(doc)\n",
    "\n",
    "MONGO_URI = \"mongodb://localhost:27017/your_database_name\"\n",
    "\n",
    "client = connect_to_mongodb(MONGO_URI)\n",
    "if client:\n",
    "    db = client[\"test_db\"]\n",
    "    collection = db[\"test_collection\"]\n",
    "    find_all_documents(collection)"
   ]
  },
  {
   "cell_type": "code",
   "execution_count": 4,
   "metadata": {},
   "outputs": [],
   "source": [
    "data = {\n",
    "    \"url\" : \"\",\n",
    "    \"fa_product_name\": \"\",\n",
    "    \"en_product_name\": \"\",\n",
    "    \"product_id\": \"\",\n",
    "    \"comments_count\": \"\",\n",
    "    \"first_analysis_data\": \"\",\n",
    "    \"last_analysis_data\": \"\",\n",
    "    \"analysis\": {}\n",
    "}"
   ]
  },
  {
   "cell_type": "code",
   "execution_count": null,
   "metadata": {},
   "outputs": [],
   "source": [
    "def get_now_date():\n",
    "    "
   ]
  },
  {
   "cell_type": "code",
   "execution_count": 5,
   "metadata": {},
   "outputs": [
    {
     "name": "stdout",
     "output_type": "stream",
     "text": [
      "{'year': 2024, 'month': 4, 'day': 17}\n"
     ]
    }
   ],
   "source": [
    "from datetime import datetime\n",
    "\n",
    "today_date = datetime.now()\n",
    "\n",
    "today_document = {\n",
    "    \"year\": today_date.year,\n",
    "    \"month\": today_date.month,\n",
    "    \"day\": today_date.day\n",
    "}\n",
    "\n",
    "print(today_document)\n"
   ]
  },
  {
   "cell_type": "code",
   "execution_count": 6,
   "metadata": {},
   "outputs": [
    {
     "name": "stdout",
     "output_type": "stream",
     "text": [
      "Time stamp: 1713332924\n"
     ]
    }
   ],
   "source": [
    "import time\n",
    "\n",
    "# دریافت time stamp\n",
    "timestamp = int(time.time())\n",
    "print(\"Time stamp:\", timestamp)\n"
   ]
  },
  {
   "cell_type": "code",
   "execution_count": 7,
   "metadata": {},
   "outputs": [
    {
     "name": "stdout",
     "output_type": "stream",
     "text": [
      "Time stamp: 1713332927\n"
     ]
    }
   ],
   "source": [
    "from datetime import datetime\n",
    "\n",
    "# دریافت تاریخ و زمان فعلی\n",
    "now = datetime.now()\n",
    "\n",
    "# تبدیل تاریخ و زمان به time stamp\n",
    "timestamp = int(datetime.timestamp(now))\n",
    "print(\"Time stamp:\", timestamp)\n"
   ]
  },
  {
   "cell_type": "code",
   "execution_count": 8,
   "metadata": {},
   "outputs": [
    {
     "name": "stdout",
     "output_type": "stream",
     "text": [
      "Collecting persiantools\n",
      "  Downloading persiantools-4.0.0-py3-none-any.whl (15 kB)\n",
      "Collecting pytz\n",
      "  Using cached pytz-2024.1-py2.py3-none-any.whl (505 kB)\n",
      "Installing collected packages: pytz, persiantools\n",
      "Successfully installed persiantools-4.0.0 pytz-2024.1\n"
     ]
    }
   ],
   "source": [
    "!pip install persiantools\n"
   ]
  },
  {
   "cell_type": "code",
   "execution_count": 10,
   "metadata": {},
   "outputs": [
    {
     "name": "stdout",
     "output_type": "stream",
     "text": [
      "تاریخ شمسی معادل با time stamp: 1403/01/29\n"
     ]
    }
   ],
   "source": [
    "from persiantools.jdatetime import JalaliDateTime\n",
    "\n",
    "def timestamp_to_jalali(timestamp):\n",
    "    dt = JalaliDateTime.fromtimestamp(timestamp)\n",
    "    jalali_date = dt.strftime(\"%Y/%m/%d\")\n",
    "\n",
    "    return jalali_date\n",
    "\n",
    "timestamp = 1713332927\n",
    "jalali_date = timestamp_to_jalali(timestamp)\n",
    "print(\"تاریخ شمسی معادل با time stamp:\", jalali_date)\n"
   ]
  },
  {
   "cell_type": "code",
   "execution_count": null,
   "metadata": {},
   "outputs": [],
   "source": []
  }
 ],
 "metadata": {
  "kernelspec": {
   "display_name": "venv-MongoDB",
   "language": "python",
   "name": "python3"
  },
  "language_info": {
   "codemirror_mode": {
    "name": "ipython",
    "version": 3
   },
   "file_extension": ".py",
   "mimetype": "text/x-python",
   "name": "python",
   "nbconvert_exporter": "python",
   "pygments_lexer": "ipython3",
   "version": "3.10.12"
  }
 },
 "nbformat": 4,
 "nbformat_minor": 2
}
